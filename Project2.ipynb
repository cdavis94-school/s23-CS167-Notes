{
  "nbformat": 4,
  "nbformat_minor": 0,
  "metadata": {
    "colab": {
      "provenance": [],
      "gpuType": "T4",
      "include_colab_link": true
    },
    "kernelspec": {
      "name": "python3",
      "display_name": "Python 3"
    },
    "language_info": {
      "name": "python"
    },
    "accelerator": "GPU",
    "gpuClass": "standard"
  },
  "cells": [
    {
      "cell_type": "markdown",
      "metadata": {
        "id": "view-in-github",
        "colab_type": "text"
      },
      "source": [
        "<a href=\"https://colab.research.google.com/github/cdavis94-school/s23-CS167-Notes/blob/main/Project2.ipynb\" target=\"_parent\"><img src=\"https://colab.research.google.com/assets/colab-badge.svg\" alt=\"Open In Colab\"/></a>"
      ]
    },
    {
      "cell_type": "markdown",
      "source": [
        "# Project #2\n",
        "##Name: Christian Davis\n",
        "\n",
        "Proposed Points (out of 25):\n",
        "Description/Writing\tI think I deserve\tActual Grade\tNotes\n",
        "1: Problem\t          2/2\t    /2\t\n",
        "2: Data Prep\t        2/2\t    /2\t\n",
        "3: Research\t          8/10\t  /10\t\n",
        "4: Analysis\t          9/10\t  /10\t\n",
        "5: Bumps in the Road.\t1/1\t    /1\t\n",
        "Total\t                22/25\t  /25\t"
      ],
      "metadata": {
        "id": "rIepkBIuT_Pl"
      }
    },
    {
      "cell_type": "markdown",
      "source": [
        "# 1. Problem\n",
        "State the problem you are trying to solve with this machine learning experiment. Include a description of the data, where you got the data, and what you're trying to predict.."
      ],
      "metadata": {
        "id": "HbwKLNhzP8YO"
      }
    },
    {
      "cell_type": "markdown",
      "source": [
        "Problem being solved: predicting if a player will hit over 30 homeruns based off of other batting statistics \n",
        "\n",
        "Data prep: on another file I used the pybaseball library to create a batting statistic csv file with all MLB batter statistics from 2002-2022. I then created a new collumn that said whether or not a batter hit over 30 homeruns in a season. Additionally all data used was normalized to create balance between counting stats (whole numbers) and average s"
      ],
      "metadata": {
        "id": "LwseoUsMmCz2"
      }
    },
    {
      "cell_type": "markdown",
      "source": [
        "# 2. Data Preparation\n",
        "Explain your data preparation. What did you have to do to get your data in shape for your experiments? Why are you certain that you data is clean and prepared for use in your algorithms?"
      ],
      "metadata": {
        "id": "qR_foVOeQVL7"
      }
    },
    {
      "cell_type": "markdown",
      "source": [
        "*your answer here*"
      ],
      "metadata": {
        "id": "aMDJDnW_mOWu"
      }
    },
    {
      "cell_type": "code",
      "source": [
        "from google.colab import drive\n",
        "drive.mount('/content/drive')"
      ],
      "metadata": {
        "id": "9dUdBChRmKxR",
        "outputId": "0b263f07-578f-4fec-c954-02e42ebe8fe6",
        "colab": {
          "base_uri": "https://localhost:8080/"
        }
      },
      "execution_count": 23,
      "outputs": [
        {
          "output_type": "stream",
          "name": "stdout",
          "text": [
            "Drive already mounted at /content/drive; to attempt to forcibly remount, call drive.mount(\"/content/drive\", force_remount=True).\n"
          ]
        }
      ]
    },
    {
      "cell_type": "code",
      "source": [
        "!pip install keras"
      ],
      "metadata": {
        "colab": {
          "base_uri": "https://localhost:8080/"
        },
        "id": "e2FkRie6cDSE",
        "outputId": "d71555b2-6cb7-43ca-a394-529a67b516d4"
      },
      "execution_count": 12,
      "outputs": [
        {
          "output_type": "stream",
          "name": "stdout",
          "text": [
            "Looking in indexes: https://pypi.org/simple, https://us-python.pkg.dev/colab-wheels/public/simple/\n",
            "Requirement already satisfied: keras in /usr/local/lib/python3.10/dist-packages (2.12.0)\n"
          ]
        }
      ]
    },
    {
      "cell_type": "code",
      "source": [
        "#holy imports batman\n",
        "from sklearn.model_selection import train_test_split\n",
        "from sklearn.preprocessing import StandardScaler\n",
        "from sklearn.neighbors import KNeighborsClassifier\n",
        "from sklearn.model_selection import train_test_split\n",
        "from sklearn.feature_selection import SelectKBest\n",
        "from sklearn.metrics import accuracy_score\n",
        "from sklearn.decomposition import PCA\n",
        "from sklearn.linear_model import Perceptron\n",
        "from sklearn import metrics\n",
        "from sklearn.neural_network import MLPClassifier\n",
        "from sklearn.metrics import confusion_matrix, ConfusionMatrixDisplay\n",
        "import matplotlib.pyplot as plt\n",
        "from sklearn.svm import SVC\n",
        "from tensorflow.keras.models import Sequential\n",
        "from tensorflow.keras.layers import Dense\n",
        "import seaborn as sns\n",
        "from keras.datasets import mnist\n",
        "from tensorflow.keras.models import Sequential\n",
        "from tensorflow.keras.layers import Conv2D, MaxPooling2D, Flatten, Dense\n",
        "from tensorflow.keras.preprocessing import image\n",
        "from tensorflow.keras.utils import load_img\n",
        "from tensorflow.keras.utils import img_to_array\n",
        "from IPython.display import Image\n",
        "import keras\n",
        "import sys\n",
        "from keras.utils import to_categorical\n",
        "from keras.models import Sequential\n",
        "from keras.layers import Conv2D\n",
        "from keras.layers import MaxPooling2D\n",
        "from keras.layers import Dense\n",
        "from keras.layers import Flatten\n",
        "from keras.optimizers import SGD\n",
        "from keras.preprocessing.image import ImageDataGenerator\n"
      ],
      "metadata": {
        "id": "BkDoUUN0tX7y"
      },
      "execution_count": 19,
      "outputs": []
    },
    {
      "cell_type": "code",
      "source": [
        "import pandas\n",
        "#data was acquired in another personal project using the pybaseball library. https://www.youtube.com/watch?v=ZO3HAVm9IdQ&ab_channel=Dataquest\n",
        "#data wasn't predicting total HR's with much accuracy so i changed the dataset and goal to see if it could predict if a player hits over 30 in a season\n",
        "path = '/content/drive/MyDrive/datasets/batting.csv'\n",
        "data = pandas.read_csv(path)"
      ],
      "metadata": {
        "id": "B-8L0p7CrKiJ"
      },
      "execution_count": null,
      "outputs": []
    },
    {
      "cell_type": "code",
      "source": [
        "data = data[['Age','G','AB','PA','H','1B','R','RBI','SO','AVG','HR_30','SLG','OBP']]\n",
        "predictors = data.columns.drop('HR_30')\n",
        "target = \"HR_30\"\n",
        "train_data, test_data, train_sln, test_sln = train_test_split(data[predictors], data[target], test_size = 0.2, random_state=41)\n"
      ],
      "metadata": {
        "id": "xdegyoBesBFP"
      },
      "execution_count": null,
      "outputs": []
    },
    {
      "cell_type": "code",
      "source": [
        "scaler = StandardScaler()\n",
        "scaler.fit(train_data)\n",
        "train_data_norm = scaler.transform(train_data)\n",
        "test_data_norm = scaler.transform(test_data)"
      ],
      "metadata": {
        "id": "ftM4LWrluR_C"
      },
      "execution_count": null,
      "outputs": []
    },
    {
      "cell_type": "markdown",
      "source": [
        "# 3. Research\n",
        "\n",
        "Put your code and your experiments here."
      ],
      "metadata": {
        "id": "Hc7HMmNPR10W"
      }
    },
    {
      "cell_type": "code",
      "source": [
        "#PCA\n",
        "extractor = PCA(n_components=2, whiten=True)\n",
        "\n",
        "#When fitting with PCA, you do not use the target column - this is an unsupervised learning algorithm\n",
        "extractor.fit(train_data)\n",
        "\n",
        "# transform your train_data and _test_data\n",
        "train_transformed = extractor.transform(train_data)\n",
        "test_transformed = extractor.transform(test_data)\n",
        "\n",
        "#build and test your model\n",
        "clf = KNeighborsClassifier()\n",
        "clf.fit(train_transformed,train_sln)\n",
        "predictions = clf.predict(test_transformed)\n",
        "print('Accuracy:',accuracy_score(test_sln,predictions))"
      ],
      "metadata": {
        "id": "XfaACsEOR4U5",
        "outputId": "b741c288-e46f-4f77-917b-0d909f3deaba",
        "colab": {
          "base_uri": "https://localhost:8080/"
        }
      },
      "execution_count": null,
      "outputs": [
        {
          "output_type": "stream",
          "name": "stdout",
          "text": [
            "Accuracy: 0.926914968376669\n"
          ]
        }
      ]
    },
    {
      "cell_type": "code",
      "source": [
        "#perceptron\n",
        "perc = Perceptron()\n",
        "perc.fit(train_data,train_sln)\n",
        "HR_predictions = perc.predict(test_data)\n",
        "\n",
        "#output accuracy\n",
        "print(\"Homerun accuracy:\", metrics.accuracy_score(test_sln, HR_predictions))"
      ],
      "metadata": {
        "id": "AfzoDqZ2x-U3",
        "outputId": "8dab62c6-bfd2-4b07-b6ad-7d25b369bdf8",
        "colab": {
          "base_uri": "https://localhost:8080/"
        }
      },
      "execution_count": null,
      "outputs": [
        {
          "output_type": "stream",
          "name": "stdout",
          "text": [
            "Homerun accuracy: 0.9388615600843289\n"
          ]
        }
      ]
    },
    {
      "cell_type": "code",
      "source": [
        "#MLP\n",
        "mlp = MLPClassifier(random_state=0,hidden_layer_sizes = (100,), max_iter = 800)\n",
        "mlp.fit(train_data_norm,train_sln)\n",
        "predictions = mlp.predict(test_data_norm)\n",
        "\n",
        "print(\"Accuracy: \", metrics.accuracy_score(test_sln,predictions))\n",
        "\n",
        "# Confusion Matrix\n",
        "vals = data[target].unique() ## possible classification values (species)\n",
        "conf_mat = metrics.confusion_matrix(test_sln, predictions, labels=vals)\n",
        "\n",
        "#print(pandas.DataFrame(conf_mat, index = \"True \" + vals, columns = \"Pre \" + vals))\n",
        "\n",
        "disp = ConfusionMatrixDisplay(confusion_matrix=conf_mat,display_labels=mlp.classes_)\n",
        "disp.plot()\n",
        "plt.show()"
      ],
      "metadata": {
        "id": "cSg_3Lu-yc_O",
        "outputId": "bc1c363d-3d78-44bd-a325-4111795ad374",
        "colab": {
          "base_uri": "https://localhost:8080/",
          "height": 466
        }
      },
      "execution_count": null,
      "outputs": [
        {
          "output_type": "stream",
          "name": "stdout",
          "text": [
            "Accuracy:  0.9880534082923401\n"
          ]
        },
        {
          "output_type": "display_data",
          "data": {
            "text/plain": [
              "<Figure size 640x480 with 2 Axes>"
            ],
            "image/png": "[encoded data removed]"
          },
          "metadata": {}
        }
      ]
    },
    {
      "cell_type": "code",
      "source": [
        "#SVM\n",
        "clf = SVC()\n",
        "clf.fit(train_data,train_sln)\n",
        "predictions = clf.predict(test_data)\n",
        "\n",
        "#output accuracy\n",
        "vals = data[target].unique() \n",
        "conf_mat = metrics.confusion_matrix(test_sln, predictions, labels=vals)\n",
        "\n",
        "disp = ConfusionMatrixDisplay(confusion_matrix=conf_mat,display_labels=mlp.classes_)\n",
        "disp.plot()\n",
        "plt.show()"
      ],
      "metadata": {
        "id": "WpI5WinQzFUe",
        "outputId": "4c10b13f-194c-42c7-8c4c-386c12ece12b",
        "colab": {
          "base_uri": "https://localhost:8080/",
          "height": 449
        }
      },
      "execution_count": null,
      "outputs": [
        {
          "output_type": "display_data",
          "data": {
            "text/plain": [
              "<Figure size 640x480 with 2 Axes>"
            ],
            "image/png": "[encoded data removed]"
          },
          "metadata": {}
        }
      ]
    },
    {
      "cell_type": "code",
      "source": [
        "#Neural Networks\n",
        "model = Sequential()\n",
        "model.add(Dense(512, activation='relu', input_dim=12))\n",
        "model.add(Dense(512, activation='relu'))\n",
        "model.add(Dense(1))\n",
        "model.compile(optimizer='adam', loss='mae', metrics=['mae'])"
      ],
      "metadata": {
        "id": "x-NVdtjuzHYB"
      },
      "execution_count": null,
      "outputs": []
    },
    {
      "cell_type": "code",
      "source": [
        "x = data.drop('HR_30', axis=1)\n",
        "y = data['HR_30']\n",
        "\n",
        "hist = model.fit(x, y, validation_split=0.2, epochs=50, batch_size=100)"
      ],
      "metadata": {
        "id": "K1sRbc8n2FIW",
        "outputId": "0873e0c9-14b5-425b-fc3f-d4697dbf8d0c",
        "colab": {
          "base_uri": "https://localhost:8080/"
        }
      },
      "execution_count": null,
      "outputs": [
        {
          "output_type": "stream",
          "name": "stdout",
          "text": [
            "Epoch 1/50\n",
            "57/57 [==============================] - 7s 7ms/step - loss: 20.6718 - mae: 20.6718 - val_loss: 3.6786 - val_mae: 3.6786\n",
            "Epoch 2/50\n",
            "57/57 [==============================] - 0s 4ms/step - loss: 7.1657 - mae: 7.1657 - val_loss: 4.5433 - val_mae: 4.5433\n",
            "Epoch 3/50\n",
            "57/57 [==============================] - 0s 5ms/step - loss: 4.6091 - mae: 4.6091 - val_loss: 1.4662 - val_mae: 1.4662\n",
            "Epoch 4/50\n",
            "57/57 [==============================] - 0s 5ms/step - loss: 6.4559 - mae: 6.4559 - val_loss: 4.3331 - val_mae: 4.3331\n",
            "Epoch 5/50\n",
            "57/57 [==============================] - 0s 5ms/step - loss: 2.6850 - mae: 2.6850 - val_loss: 3.3591 - val_mae: 3.3591\n",
            "Epoch 6/50\n",
            "57/57 [==============================] - 0s 5ms/step - loss: 2.3474 - mae: 2.3474 - val_loss: 0.5714 - val_mae: 0.5714\n",
            "Epoch 7/50\n",
            "57/57 [==============================] - 0s 5ms/step - loss: 1.2901 - mae: 1.2901 - val_loss: 1.6562 - val_mae: 1.6562\n",
            "Epoch 8/50\n",
            "57/57 [==============================] - 0s 5ms/step - loss: 1.7762 - mae: 1.7762 - val_loss: 0.2884 - val_mae: 0.2884\n",
            "Epoch 9/50\n",
            "57/57 [==============================] - 0s 5ms/step - loss: 1.5326 - mae: 1.5326 - val_loss: 2.4687 - val_mae: 2.4687\n",
            "Epoch 10/50\n",
            "57/57 [==============================] - 0s 5ms/step - loss: 1.6098 - mae: 1.6098 - val_loss: 0.7596 - val_mae: 0.7596\n",
            "Epoch 11/50\n",
            "57/57 [==============================] - 0s 4ms/step - loss: 0.6746 - mae: 0.6746 - val_loss: 1.0380 - val_mae: 1.0380\n",
            "Epoch 12/50\n",
            "57/57 [==============================] - 0s 4ms/step - loss: 1.2640 - mae: 1.2640 - val_loss: 0.2613 - val_mae: 0.2613\n",
            "Epoch 13/50\n",
            "57/57 [==============================] - 0s 5ms/step - loss: 0.8049 - mae: 0.8049 - val_loss: 0.2731 - val_mae: 0.2731\n",
            "Epoch 14/50\n",
            "57/57 [==============================] - 0s 4ms/step - loss: 0.6670 - mae: 0.6670 - val_loss: 0.5831 - val_mae: 0.5831\n",
            "Epoch 15/50\n",
            "57/57 [==============================] - 0s 4ms/step - loss: 0.7064 - mae: 0.7064 - val_loss: 0.3852 - val_mae: 0.3852\n",
            "Epoch 16/50\n",
            "57/57 [==============================] - 0s 4ms/step - loss: 0.4533 - mae: 0.4533 - val_loss: 0.2001 - val_mae: 0.2001\n",
            "Epoch 17/50\n",
            "57/57 [==============================] - 0s 5ms/step - loss: 0.3756 - mae: 0.3756 - val_loss: 0.3740 - val_mae: 0.3740\n",
            "Epoch 18/50\n",
            "57/57 [==============================] - 0s 4ms/step - loss: 0.3667 - mae: 0.3667 - val_loss: 0.2490 - val_mae: 0.2490\n",
            "Epoch 19/50\n",
            "57/57 [==============================] - 0s 5ms/step - loss: 0.3784 - mae: 0.3784 - val_loss: 0.4604 - val_mae: 0.4604\n",
            "Epoch 20/50\n",
            "57/57 [==============================] - 0s 7ms/step - loss: 0.4251 - mae: 0.4251 - val_loss: 0.2644 - val_mae: 0.2644\n",
            "Epoch 21/50\n",
            "57/57 [==============================] - 0s 7ms/step - loss: 0.3364 - mae: 0.3364 - val_loss: 0.3541 - val_mae: 0.3541\n",
            "Epoch 22/50\n",
            "57/57 [==============================] - 0s 7ms/step - loss: 0.3336 - mae: 0.3336 - val_loss: 0.6257 - val_mae: 0.6257\n",
            "Epoch 23/50\n",
            "57/57 [==============================] - 0s 7ms/step - loss: 0.6665 - mae: 0.6665 - val_loss: 0.3987 - val_mae: 0.3987\n",
            "Epoch 24/50\n",
            "57/57 [==============================] - 0s 7ms/step - loss: 0.4061 - mae: 0.4061 - val_loss: 0.4081 - val_mae: 0.4081\n",
            "Epoch 25/50\n",
            "57/57 [==============================] - 0s 6ms/step - loss: 0.2886 - mae: 0.2886 - val_loss: 0.1821 - val_mae: 0.1821\n",
            "Epoch 26/50\n",
            "57/57 [==============================] - 0s 7ms/step - loss: 0.3288 - mae: 0.3288 - val_loss: 0.0632 - val_mae: 0.0632\n",
            "Epoch 27/50\n",
            "57/57 [==============================] - 0s 6ms/step - loss: 0.3433 - mae: 0.3433 - val_loss: 0.4288 - val_mae: 0.4288\n",
            "Epoch 28/50\n",
            "57/57 [==============================] - 0s 6ms/step - loss: 0.2484 - mae: 0.2484 - val_loss: 0.2023 - val_mae: 0.2023\n",
            "Epoch 29/50\n",
            "57/57 [==============================] - 0s 6ms/step - loss: 0.3848 - mae: 0.3848 - val_loss: 0.1598 - val_mae: 0.1598\n",
            "Epoch 30/50\n",
            "57/57 [==============================] - 0s 6ms/step - loss: 0.3048 - mae: 0.3048 - val_loss: 0.0568 - val_mae: 0.0568\n",
            "Epoch 31/50\n",
            "57/57 [==============================] - 0s 5ms/step - loss: 0.2000 - mae: 0.2000 - val_loss: 0.0704 - val_mae: 0.0704\n",
            "Epoch 32/50\n",
            "57/57 [==============================] - 0s 5ms/step - loss: 0.3050 - mae: 0.3050 - val_loss: 0.2735 - val_mae: 0.2735\n",
            "Epoch 33/50\n",
            "57/57 [==============================] - 0s 5ms/step - loss: 0.3301 - mae: 0.3301 - val_loss: 0.1086 - val_mae: 0.1086\n",
            "Epoch 34/50\n",
            "57/57 [==============================] - 0s 5ms/step - loss: 0.1756 - mae: 0.1756 - val_loss: 0.1261 - val_mae: 0.1261\n",
            "Epoch 35/50\n",
            "57/57 [==============================] - 0s 5ms/step - loss: 0.1638 - mae: 0.1638 - val_loss: 0.0367 - val_mae: 0.0367\n",
            "Epoch 36/50\n",
            "57/57 [==============================] - 0s 4ms/step - loss: 0.1433 - mae: 0.1433 - val_loss: 0.0311 - val_mae: 0.0311\n",
            "Epoch 37/50\n",
            "57/57 [==============================] - 0s 5ms/step - loss: 0.2150 - mae: 0.2150 - val_loss: 0.0368 - val_mae: 0.0368\n",
            "Epoch 38/50\n",
            "57/57 [==============================] - 0s 5ms/step - loss: 0.2101 - mae: 0.2101 - val_loss: 0.0547 - val_mae: 0.0547\n",
            "Epoch 39/50\n",
            "57/57 [==============================] - 0s 5ms/step - loss: 0.1799 - mae: 0.1799 - val_loss: 0.2720 - val_mae: 0.2720\n",
            "Epoch 40/50\n",
            "57/57 [==============================] - 0s 5ms/step - loss: 0.1999 - mae: 0.1999 - val_loss: 0.0299 - val_mae: 0.0299\n",
            "Epoch 41/50\n",
            "57/57 [==============================] - 0s 5ms/step - loss: 0.1451 - mae: 0.1451 - val_loss: 0.1181 - val_mae: 0.1181\n",
            "Epoch 42/50\n",
            "57/57 [==============================] - 0s 5ms/step - loss: 0.1960 - mae: 0.1960 - val_loss: 0.1243 - val_mae: 0.1243\n",
            "Epoch 43/50\n",
            "57/57 [==============================] - 0s 5ms/step - loss: 0.1911 - mae: 0.1911 - val_loss: 0.0384 - val_mae: 0.0384\n",
            "Epoch 44/50\n",
            "57/57 [==============================] - 0s 4ms/step - loss: 0.2245 - mae: 0.2245 - val_loss: 0.1218 - val_mae: 0.1218\n",
            "Epoch 45/50\n",
            "57/57 [==============================] - 0s 5ms/step - loss: 0.1514 - mae: 0.1514 - val_loss: 0.0465 - val_mae: 0.0465\n",
            "Epoch 46/50\n",
            "57/57 [==============================] - 0s 5ms/step - loss: 0.1300 - mae: 0.1300 - val_loss: 0.1186 - val_mae: 0.1186\n",
            "Epoch 47/50\n",
            "57/57 [==============================] - 0s 5ms/step - loss: 0.1693 - mae: 0.1693 - val_loss: 0.1982 - val_mae: 0.1982\n",
            "Epoch 48/50\n",
            "57/57 [==============================] - 0s 5ms/step - loss: 0.1428 - mae: 0.1428 - val_loss: 0.0395 - val_mae: 0.0395\n",
            "Epoch 49/50\n",
            "57/57 [==============================] - 0s 5ms/step - loss: 0.1186 - mae: 0.1186 - val_loss: 0.0429 - val_mae: 0.0429\n",
            "Epoch 50/50\n",
            "57/57 [==============================] - 0s 5ms/step - loss: 0.1163 - mae: 0.1163 - val_loss: 0.0331 - val_mae: 0.0331\n"
          ]
        }
      ]
    },
    {
      "cell_type": "code",
      "source": [
        "sns.set()\n",
        "\n",
        "err = hist.history['mae']\n",
        "val_err = hist.history['val_mae']\n",
        "epochs = range(1, len(err) + 1)\n",
        "\n",
        "plt.plot(epochs, err, '-', label='Training MAE')\n",
        "plt.plot(epochs, val_err, ':', label='Validation MAE')\n",
        "plt.title('Training and Validation Accuracy')\n",
        "plt.xlabel('Epoch')\n",
        "plt.ylabel('Mean Absolute Error')\n",
        "plt.legend(loc='upper right')\n",
        "plt.plot()"
      ],
      "metadata": {
        "id": "tZ16n0Uv4EDC",
        "outputId": "c5bb55cf-a4d8-45c4-950c-0f13c001389f",
        "colab": {
          "base_uri": "https://localhost:8080/",
          "height": 497
        }
      },
      "execution_count": null,
      "outputs": [
        {
          "output_type": "execute_result",
          "data": {
            "text/plain": [
              "[]"
            ]
          },
          "metadata": {},
          "execution_count": 69
        },
        {
          "output_type": "display_data",
          "data": {
            "text/plain": [
              "<Figure size 640x480 with 1 Axes>"
            ],
            "image/png": "[encoded data removed]"
          },
          "metadata": {}
        }
      ]
    },
    {
      "cell_type": "code",
      "source": [
        "#convolutional neural networks\n",
        "%tensorflow_version 2.x\n",
        "import tensorflow as tf\n",
        "device_name = tf.test.gpu_device_name()\n",
        "if device_name != '/device:GPU:0':\n",
        "  raise SystemError('GPU device not found')\n",
        "print('Found GPU at: {}'.format(device_name))"
      ],
      "metadata": {
        "id": "PUUWrvz-zKL_",
        "colab": {
          "base_uri": "https://localhost:8080/"
        },
        "outputId": "597febff-5720-45c4-db6a-0f6fc064b518"
      },
      "execution_count": 1,
      "outputs": [
        {
          "output_type": "stream",
          "name": "stdout",
          "text": [
            "Colab only includes TensorFlow 2.x; %tensorflow_version has no effect.\n",
            "Found GPU at: /device:GPU:0\n"
          ]
        }
      ]
    },
    {
      "cell_type": "code",
      "source": [
        "import os\n",
        "from tensorflow.keras.preprocessing import image\n",
        "import matplotlib.pyplot as plt\n",
        "%matplotlib inline\n",
        " \n",
        "def load_images_from_path(path, label):\n",
        "    images, labels = [], []\n",
        " \n",
        "    for file in os.listdir(path):\n",
        "        img = image.load_img(os.path.join(path, file), target_size=(224, 224, 3))\n",
        "        images.append(image.img_to_array(img))\n",
        "        labels.append((label))\n",
        "         \n",
        "    return images, labels\n",
        " \n",
        "def show_images(images):\n",
        "    fig, axes = plt.subplots(1, 8, figsize=(20, 20), subplot_kw={'xticks': [], 'yticks': []})\n",
        " \n",
        "    for i, ax in enumerate(axes.flat):\n",
        "        ax.imshow(images[i] / 255)\n",
        " \n",
        "x_train, y_train, x_test, y_test = [], [], [], []"
      ],
      "metadata": {
        "id": "OWS_hKELdZ6E"
      },
      "execution_count": 21,
      "outputs": []
    },
    {
      "cell_type": "code",
      "source": [
        "images, labels = load_images_from_path('/content/drive/MyDrive/datasets/Covid19-dataset/train/Covid', 0)\n",
        "\n",
        "x_train += images\n",
        "y_train += labels\n",
        "\n",
        "images, labels = load_images_from_path('/content/drive/MyDrive/datasets/Covid19-dataset/train/Normal', 0)\n",
        "\n",
        "x_train += images\n",
        "y_train += labels\n",
        "\n",
        "images, labels = load_images_from_path('/content/drive/MyDrive/datasets/Covid19-dataset/train/Viral_Pneumonia', 0)\n",
        "\n",
        "x_train += images\n",
        "y_train += labels"
      ],
      "metadata": {
        "id": "OQRe4qyRUYuA"
      },
      "execution_count": 22,
      "outputs": []
    },
    {
      "cell_type": "code",
      "source": [
        "images, labels = load_images_from_path('/content/drive/MyDrive/datasets/Covid19-dataset/test/Covid', 0)\n",
        "\n",
        "x_test += images\n",
        "y_test += labels\n",
        "\n",
        "images, labels = load_images_from_path('/content/drive/MyDrive/datasets/Covid19-dataset/test/Normal', 0)\n",
        "\n",
        "x_test += images\n",
        "y_test += labels\n",
        "\n",
        "images, labels = load_images_from_path('/content/drive/MyDrive/datasets/Covid19-dataset/test/Viral_Pneumonia', 0)\n",
        "\n",
        "x_test += images\n",
        "y_test += labels"
      ],
      "metadata": {
        "id": "gvnoE6GSeZqU"
      },
      "execution_count": 24,
      "outputs": []
    },
    {
      "cell_type": "code",
      "source": [
        "import numpy as np\n",
        "x_train = np.array(x_train) / 255 # normalize pixel values\n",
        "x_test = np.array(x_test) / 255\n",
        "\n",
        "y_train = np.array(y_train)\n",
        "y_test = np.array(y_test)\n",
        "\n",
        "model = Sequential()\n",
        "model.add(Conv2D(32, (3, 3), activation='relu', input_shape=(224, 224, 3)))\n",
        "model.add(MaxPooling2D(2, 2))\n",
        "\n",
        "model.add(Conv2D(64, (3, 3), activation='relu'))\n",
        "model.add(MaxPooling2D(2, 2))\n",
        "\n",
        "model.add(Conv2D(64, (3, 3), activation='relu'))\n",
        "model.add(MaxPooling2D(2, 2))\n",
        "\n",
        "model.add(Conv2D(128, (3, 3), activation='relu'))\n",
        "model.add(MaxPooling2D(2, 2))\n",
        "\n",
        "model.add(Conv2D(128, (3, 3), activation='relu'))\n",
        "model.add(MaxPooling2D(2, 2))\n",
        "\n",
        "model.add(Flatten())\n",
        "model.add(Dense(1024, activation='relu'))\n",
        "model.add(Dense(3, activation='softmax'))\n",
        "model.compile(optimizer='adam', loss='sparse_categorical_crossentropy', metrics=['accuracy'])\n",
        "model.summary(line_length=80)"
      ],
      "metadata": {
        "colab": {
          "base_uri": "https://localhost:8080/"
        },
        "id": "dHCaBZAQewyq",
        "outputId": "bf3626a2-318d-43a1-b8d9-65493e5b063d"
      },
      "execution_count": 27,
      "outputs": [
        {
          "output_type": "stream",
          "name": "stdout",
          "text": [
            "Model: \"sequential\"\n",
            "________________________________________________________________________________\n",
            " Layer (type)                       Output Shape                    Param #     \n",
            "================================================================================\n",
            " conv2d (Conv2D)                    (None, 222, 222, 32)            896         \n",
            "                                                                                \n",
            " max_pooling2d (MaxPooling2D)       (None, 111, 111, 32)            0           \n",
            "                                                                                \n",
            " conv2d_1 (Conv2D)                  (None, 109, 109, 64)            18496       \n",
            "                                                                                \n",
            " max_pooling2d_1 (MaxPooling2D)     (None, 54, 54, 64)              0           \n",
            "                                                                                \n",
            " conv2d_2 (Conv2D)                  (None, 52, 52, 64)              36928       \n",
            "                                                                                \n",
            " max_pooling2d_2 (MaxPooling2D)     (None, 26, 26, 64)              0           \n",
            "                                                                                \n",
            " conv2d_3 (Conv2D)                  (None, 24, 24, 128)             73856       \n",
            "                                                                                \n",
            " max_pooling2d_3 (MaxPooling2D)     (None, 12, 12, 128)             0           \n",
            "                                                                                \n",
            " conv2d_4 (Conv2D)                  (None, 10, 10, 128)             147584      \n",
            "                                                                                \n",
            " max_pooling2d_4 (MaxPooling2D)     (None, 5, 5, 128)               0           \n",
            "                                                                                \n",
            " flatten (Flatten)                  (None, 3200)                    0           \n",
            "                                                                                \n",
            " dense (Dense)                      (None, 1024)                    3277824     \n",
            "                                                                                \n",
            " dense_1 (Dense)                    (None, 3)                       3075        \n",
            "                                                                                \n",
            "================================================================================\n",
            "Total params: 3,558,659\n",
            "Trainable params: 3,558,659\n",
            "Non-trainable params: 0\n",
            "________________________________________________________________________________\n"
          ]
        }
      ]
    },
    {
      "cell_type": "code",
      "source": [
        "hist = model.fit(x_train, y_train, validation_data=(x_test, y_test), batch_size=10, epochs=20)"
      ],
      "metadata": {
        "colab": {
          "base_uri": "https://localhost:8080/"
        },
        "id": "mbgsZT3tfOzu",
        "outputId": "a3249ea7-4d0e-4c70-bcda-5cc632dcdc06"
      },
      "execution_count": 28,
      "outputs": [
        {
          "output_type": "stream",
          "name": "stdout",
          "text": [
            "Epoch 1/20\n",
            "26/26 [==============================] - 15s 50ms/step - loss: 0.1785 - accuracy: 0.9602 - val_loss: 0.0000e+00 - val_accuracy: 1.0000\n",
            "Epoch 2/20\n",
            "26/26 [==============================] - 1s 19ms/step - loss: 0.0000e+00 - accuracy: 1.0000 - val_loss: 0.0000e+00 - val_accuracy: 1.0000\n",
            "Epoch 3/20\n",
            "26/26 [==============================] - 0s 19ms/step - loss: 0.0000e+00 - accuracy: 1.0000 - val_loss: 0.0000e+00 - val_accuracy: 1.0000\n",
            "Epoch 4/20\n",
            "26/26 [==============================] - 1s 20ms/step - loss: 0.0000e+00 - accuracy: 1.0000 - val_loss: 0.0000e+00 - val_accuracy: 1.0000\n",
            "Epoch 5/20\n",
            "26/26 [==============================] - 0s 18ms/step - loss: 0.0000e+00 - accuracy: 1.0000 - val_loss: 0.0000e+00 - val_accuracy: 1.0000\n",
            "Epoch 6/20\n",
            "26/26 [==============================] - 0s 19ms/step - loss: 0.0000e+00 - accuracy: 1.0000 - val_loss: 0.0000e+00 - val_accuracy: 1.0000\n",
            "Epoch 7/20\n",
            "26/26 [==============================] - 0s 19ms/step - loss: 0.0000e+00 - accuracy: 1.0000 - val_loss: 0.0000e+00 - val_accuracy: 1.0000\n",
            "Epoch 8/20\n",
            "26/26 [==============================] - 0s 19ms/step - loss: 0.0000e+00 - accuracy: 1.0000 - val_loss: 0.0000e+00 - val_accuracy: 1.0000\n",
            "Epoch 9/20\n",
            "26/26 [==============================] - 0s 18ms/step - loss: 0.0000e+00 - accuracy: 1.0000 - val_loss: 0.0000e+00 - val_accuracy: 1.0000\n",
            "Epoch 10/20\n",
            "26/26 [==============================] - 0s 19ms/step - loss: 0.0000e+00 - accuracy: 1.0000 - val_loss: 0.0000e+00 - val_accuracy: 1.0000\n",
            "Epoch 11/20\n",
            "26/26 [==============================] - 0s 19ms/step - loss: 0.0000e+00 - accuracy: 1.0000 - val_loss: 0.0000e+00 - val_accuracy: 1.0000\n",
            "Epoch 12/20\n",
            "26/26 [==============================] - 0s 19ms/step - loss: 0.0000e+00 - accuracy: 1.0000 - val_loss: 0.0000e+00 - val_accuracy: 1.0000\n",
            "Epoch 13/20\n",
            "26/26 [==============================] - 0s 19ms/step - loss: 0.0000e+00 - accuracy: 1.0000 - val_loss: 0.0000e+00 - val_accuracy: 1.0000\n",
            "Epoch 14/20\n",
            "26/26 [==============================] - 0s 19ms/step - loss: 0.0000e+00 - accuracy: 1.0000 - val_loss: 0.0000e+00 - val_accuracy: 1.0000\n",
            "Epoch 15/20\n",
            "26/26 [==============================] - 0s 19ms/step - loss: 0.0000e+00 - accuracy: 1.0000 - val_loss: 0.0000e+00 - val_accuracy: 1.0000\n",
            "Epoch 16/20\n",
            "26/26 [==============================] - 0s 19ms/step - loss: 0.0000e+00 - accuracy: 1.0000 - val_loss: 0.0000e+00 - val_accuracy: 1.0000\n",
            "Epoch 17/20\n",
            "26/26 [==============================] - 1s 20ms/step - loss: 0.0000e+00 - accuracy: 1.0000 - val_loss: 0.0000e+00 - val_accuracy: 1.0000\n",
            "Epoch 18/20\n",
            "26/26 [==============================] - 1s 21ms/step - loss: 0.0000e+00 - accuracy: 1.0000 - val_loss: 0.0000e+00 - val_accuracy: 1.0000\n",
            "Epoch 19/20\n",
            "26/26 [==============================] - 1s 21ms/step - loss: 0.0000e+00 - accuracy: 1.0000 - val_loss: 0.0000e+00 - val_accuracy: 1.0000\n",
            "Epoch 20/20\n",
            "26/26 [==============================] - 1s 22ms/step - loss: 0.0000e+00 - accuracy: 1.0000 - val_loss: 0.0000e+00 - val_accuracy: 1.0000\n"
          ]
        }
      ]
    },
    {
      "cell_type": "code",
      "source": [
        "import seaborn as sns\n",
        "sns.set()\n",
        "\n",
        "acc = hist.history['accuracy']\n",
        "val_acc = hist.history['val_accuracy']\n",
        "epochs = range(1, len(acc) + 1)\n",
        " \n",
        "plt.plot(epochs, acc, '-', label='Training Accuracy')\n",
        "plt.plot(epochs, val_acc, ':', label='Validation Accuracy')\n",
        "plt.title('Training and Validation Accuracy')\n",
        "plt.xlabel('Epoch')\n",
        "plt.ylabel('Accuracy')\n",
        "plt.legend(loc='lower right')\n",
        "plt.plot()"
      ],
      "metadata": {
        "colab": {
          "base_uri": "https://localhost:8080/",
          "height": 498
        },
        "id": "YV7Tu4zTfus9",
        "outputId": "c1908a85-77ac-4ada-e303-4373bc30aed8"
      },
      "execution_count": 29,
      "outputs": [
        {
          "output_type": "execute_result",
          "data": {
            "text/plain": [
              "[]"
            ]
          },
          "metadata": {},
          "execution_count": 29
        },
        {
          "output_type": "display_data",
          "data": {
            "text/plain": [
              "<Figure size 640x480 with 1 Axes>"
            ],
            "image/png": "[encoded data removed]"
          },
          "metadata": {}
        }
      ]
    },
    {
      "cell_type": "markdown",
      "source": [
        "#4. Analysis\n",
        "\n",
        "What did you discover? What insights/recommendations do you have? What did you find that was interesting? Which model was your best model, which models didn't work well? Why do you think this is? In general, I want a discussion of your experiment, the results, and what they mean."
      ],
      "metadata": {
        "id": "2Qu9bYPLmiv_"
      }
    },
    {
      "cell_type": "markdown",
      "source": [
        "I believe the best processing model for the baseball data was MLP at 98.8% accuracy. Throughout the research I realized how difficult it is to predect the exact number of homeruns a player hit based off their stats. This was expected since success in other stats don't direct correlate to power. If I had more time to give to the project I would have liked to find a way to convert each players homeruns hit to a range of +/- 5 and see if the HR prediction would fall within that range. As is i think the prediction criteria will lead to an artificially high success rate since any player with poor performance likely didn't cross the 30 HR threshhold. By predicting all players will hit below 30 HR's the models would have come up with an acceptable success rate since most players don't cross that line. I believe the MLP model was most successful because the output was continuous in nature. I also attempted a CNN model utilizing xrays to predict Covid, Pneumonia, or no diagnosis. However, this model quickly came up with 100% accuracy, which if true would have made me rich a couple years ago. I'm not sure whats prompting the 100% success rates."
      ],
      "metadata": {
        "id": "k17sKBZUmqIH"
      }
    },
    {
      "cell_type": "markdown",
      "source": [
        "# 5. Bumps in the Road\n",
        "What challenges did you encounter? How did you overcome these challenges?"
      ],
      "metadata": {
        "id": "TemAuKxlm6dQ"
      }
    },
    {
      "cell_type": "markdown",
      "source": [
        "As stated in the analysis section predicting an exact number of homeruns hit by players was extremely difficult and I was never able to get accuracy over 8%. Because of this I set a line to predict if the player was over or under. As for the CNN model, trying to find a dataset that wasn't massive took a while. I ended up with a dataset far too large that took my desktop out of comission for 4 hours trying to unpack. "
      ],
      "metadata": {
        "id": "zXEVEG9FnHgQ"
      }
    }
  ]
}