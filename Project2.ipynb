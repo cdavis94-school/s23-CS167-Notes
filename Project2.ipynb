{
  "nbformat": 4,
  "nbformat_minor": 0,
  "metadata": {
    "colab": {
      "provenance": [],
      "include_colab_link": true
    },
    "kernelspec": {
      "name": "python3",
      "display_name": "Python 3"
    },
    "language_info": {
      "name": "python"
    },
    "accelerator": "GPU",
    "gpuClass": "standard"
  },
  "cells": [
    {
      "cell_type": "markdown",
      "metadata": {
        "id": "view-in-github",
        "colab_type": "text"
      },
      "source": [
        "<a href=\"https://colab.research.google.com/github/cdavis94-school/s23-CS167-Notes/blob/main/Project2.ipynb\" target=\"_parent\"><img src=\"https://colab.research.google.com/assets/colab-badge.svg\" alt=\"Open In Colab\"/></a>"
      ]
    },
    {
      "cell_type": "markdown",
      "source": [
        "# Project #2\n",
        "##Name:\n",
        "\n",
        "Proposed Points (out of 25):"
      ],
      "metadata": {
        "id": "rIepkBIuT_Pl"
      }
    },
    {
      "cell_type": "markdown",
      "source": [
        "# 1. Problem\n",
        "State the problem you are trying to solve with this machine learning experiment. Include a description of the data, where you got the data, and what you're trying to predict.."
      ],
      "metadata": {
        "id": "HbwKLNhzP8YO"
      }
    },
    {
      "cell_type": "markdown",
      "source": [
        "Problem being solved: predicting if a player will hit over 30 homeruns based off of other batting statistics \n",
        "\n",
        "Data prep: on another file I used the pybaseball library to create a batting statistic csv file with all MLB batter statistics from 2002-2022. I then created a new collumn that said whether or not a batter hit over 30 homeruns in a season. Additionally all data used was normalized to create balance between counting stats (whole numbers) and average s"
      ],
      "metadata": {
        "id": "LwseoUsMmCz2"
      }
    },
    {
      "cell_type": "markdown",
      "source": [
        "# 2. Data Preparation\n",
        "Explain your data preparation. What did you have to do to get your data in shape for your experiments? Why are you certain that you data is clean and prepared for use in your algorithms?"
      ],
      "metadata": {
        "id": "qR_foVOeQVL7"
      }
    },
    {
      "cell_type": "markdown",
      "source": [
        "*your answer here*"
      ],
      "metadata": {
        "id": "aMDJDnW_mOWu"
      }
    },
    {
      "cell_type": "code",
      "source": [
        "from google.colab import drive\n",
        "drive.mount('/content/drive')"
      ],
      "metadata": {
        "id": "9dUdBChRmKxR",
        "outputId": "f45a47d1-4502-44d6-e8c4-8e659a34d2ef",
        "colab": {
          "base_uri": "https://localhost:8080/"
        }
      },
      "execution_count": 47,
      "outputs": [
        {
          "output_type": "stream",
          "name": "stdout",
          "text": [
            "Drive already mounted at /content/drive; to attempt to forcibly remount, call drive.mount(\"/content/drive\", force_remount=True).\n"
          ]
        }
      ]
    },
    {
      "cell_type": "code",
      "source": [
        "#holy imports batman\n",
        "from sklearn.model_selection import train_test_split\n",
        "from sklearn.preprocessing import StandardScaler\n",
        "from sklearn.neighbors import KNeighborsClassifier\n",
        "from sklearn.model_selection import train_test_split\n",
        "from sklearn.feature_selection import SelectKBest\n",
        "from sklearn.metrics import accuracy_score\n",
        "from sklearn.decomposition import PCA\n",
        "from sklearn.linear_model import Perceptron\n",
        "from sklearn import metrics\n",
        "from sklearn.neural_network import MLPClassifier\n",
        "from sklearn.metrics import confusion_matrix, ConfusionMatrixDisplay\n",
        "import matplotlib.pyplot as plt\n",
        "from sklearn.svm import SVC\n",
        "from tensorflow.keras.models import Sequential\n",
        "from tensorflow.keras.layers import Dense\n",
        "import seaborn as sns"
      ],
      "metadata": {
        "id": "BkDoUUN0tX7y"
      },
      "execution_count": 68,
      "outputs": []
    },
    {
      "cell_type": "code",
      "source": [
        "import pandas\n",
        "#data was acquired in another personal project using the pybaseball library. https://www.youtube.com/watch?v=ZO3HAVm9IdQ&ab_channel=Dataquest\n",
        "#data wasn't predicting total HR's with much accuracy so i changed the dataset and goal to see if it could predict if a player hits over 30 in a season\n",
        "path = '/content/drive/MyDrive/datasets/batting.csv'\n",
        "data = pandas.read_csv(path)"
      ],
      "metadata": {
        "id": "B-8L0p7CrKiJ"
      },
      "execution_count": 48,
      "outputs": []
    },
    {
      "cell_type": "code",
      "source": [
        "data = data[['Age','G','AB','PA','H','1B','R','RBI','SO','AVG','HR_30','SLG','OBP']]\n",
        "predictors = data.columns.drop('HR_30')\n",
        "target = \"HR_30\"\n",
        "train_data, test_data, train_sln, test_sln = train_test_split(data[predictors], data[target], test_size = 0.2, random_state=41)\n"
      ],
      "metadata": {
        "id": "xdegyoBesBFP"
      },
      "execution_count": 50,
      "outputs": []
    },
    {
      "cell_type": "code",
      "source": [
        "scaler = StandardScaler()\n",
        "scaler.fit(train_data)\n",
        "train_data_norm = scaler.transform(train_data)\n",
        "test_data_norm = scaler.transform(test_data)"
      ],
      "metadata": {
        "id": "ftM4LWrluR_C"
      },
      "execution_count": 51,
      "outputs": []
    },
    {
      "cell_type": "markdown",
      "source": [
        "# 3. Research\n",
        "\n",
        "Put your code and your experiments here."
      ],
      "metadata": {
        "id": "Hc7HMmNPR10W"
      }
    },
    {
      "cell_type": "code",
      "source": [
        "#PCA\n",
        "extractor = PCA(n_components=2, whiten=True)\n",
        "\n",
        "#When fitting with PCA, you do not use the target column - this is an unsupervised learning algorithm\n",
        "extractor.fit(train_data)\n",
        "\n",
        "# transform your train_data and _test_data\n",
        "train_transformed = extractor.transform(train_data)\n",
        "test_transformed = extractor.transform(test_data)\n",
        "\n",
        "#build and test your model\n",
        "clf = KNeighborsClassifier()\n",
        "clf.fit(train_transformed,train_sln)\n",
        "predictions = clf.predict(test_transformed)\n",
        "print('Accuracy:',accuracy_score(test_sln,predictions))"
      ],
      "metadata": {
        "id": "XfaACsEOR4U5",
        "outputId": "b741c288-e46f-4f77-917b-0d909f3deaba",
        "colab": {
          "base_uri": "https://localhost:8080/"
        }
      },
      "execution_count": 52,
      "outputs": [
        {
          "output_type": "stream",
          "name": "stdout",
          "text": [
            "Accuracy: 0.926914968376669\n"
          ]
        }
      ]
    },
    {
      "cell_type": "code",
      "source": [
        "#perceptron\n",
        "perc = Perceptron()\n",
        "perc.fit(train_data,train_sln)\n",
        "HR_predictions = perc.predict(test_data)\n",
        "\n",
        "#output accuracy\n",
        "print(\"Homerun accuracy:\", metrics.accuracy_score(test_sln, HR_predictions))"
      ],
      "metadata": {
        "id": "AfzoDqZ2x-U3",
        "outputId": "8dab62c6-bfd2-4b07-b6ad-7d25b369bdf8",
        "colab": {
          "base_uri": "https://localhost:8080/"
        }
      },
      "execution_count": 55,
      "outputs": [
        {
          "output_type": "stream",
          "name": "stdout",
          "text": [
            "Homerun accuracy: 0.9388615600843289\n"
          ]
        }
      ]
    },
    {
      "cell_type": "code",
      "source": [
        "#MLP\n",
        "mlp = MLPClassifier(random_state=0,hidden_layer_sizes = (100,), max_iter = 800)\n",
        "mlp.fit(train_data_norm,train_sln)\n",
        "predictions = mlp.predict(test_data_norm)\n",
        "\n",
        "print(\"Accuracy: \", metrics.accuracy_score(test_sln,predictions))\n",
        "\n",
        "# Confusion Matrix\n",
        "vals = data[target].unique() ## possible classification values (species)\n",
        "conf_mat = metrics.confusion_matrix(test_sln, predictions, labels=vals)\n",
        "\n",
        "#print(pandas.DataFrame(conf_mat, index = \"True \" + vals, columns = \"Pre \" + vals))\n",
        "\n",
        "disp = ConfusionMatrixDisplay(confusion_matrix=conf_mat,display_labels=mlp.classes_)\n",
        "disp.plot()\n",
        "plt.show()"
      ],
      "metadata": {
        "id": "cSg_3Lu-yc_O",
        "outputId": "bc1c363d-3d78-44bd-a325-4111795ad374",
        "colab": {
          "base_uri": "https://localhost:8080/",
          "height": 466
        }
      },
      "execution_count": 57,
      "outputs": [
        {
          "output_type": "stream",
          "name": "stdout",
          "text": [
            "Accuracy:  0.9880534082923401\n"
          ]
        },
        {
          "output_type": "display_data",
          "data": {
            "text/plain": [
              "<Figure size 640x480 with 2 Axes>"
            ],
            "image/png": "[encoded data removed]"
          },
          "metadata": {}
        }
      ]
    },
    {
      "cell_type": "code",
      "source": [
        "#SVM\n",
        "clf = SVC()\n",
        "clf.fit(train_data,train_sln)\n",
        "predictions = clf.predict(test_data)\n",
        "\n",
        "#output accuracy\n",
        "vals = data[target].unique() ## possible classification values (species)\n",
        "conf_mat = metrics.confusion_matrix(test_sln, predictions, labels=vals)\n",
        "\n",
        "#print(pandas.DataFrame(conf_mat, index = \"True \" + vals, columns = \"Pre \" + vals))\n",
        "\n",
        "disp = ConfusionMatrixDisplay(confusion_matrix=conf_mat,display_labels=mlp.classes_)\n",
        "disp.plot()\n",
        "plt.show()"
      ],
      "metadata": {
        "id": "WpI5WinQzFUe",
        "outputId": "4c10b13f-194c-42c7-8c4c-386c12ece12b",
        "colab": {
          "base_uri": "https://localhost:8080/",
          "height": 449
        }
      },
      "execution_count": 60,
      "outputs": [
        {
          "output_type": "display_data",
          "data": {
            "text/plain": [
              "<Figure size 640x480 with 2 Axes>"
            ],
            "image/png": "[encoded data removed]"
          },
          "metadata": {}
        }
      ]
    },
    {
      "cell_type": "code",
      "source": [
        "#Neural Networks\n",
        "model = Sequential()\n",
        "model.add(Dense(512, activation='relu', input_dim=12))\n",
        "model.add(Dense(512, activation='relu'))\n",
        "model.add(Dense(1))\n",
        "model.compile(optimizer='adam', loss='mae', metrics=['mae'])"
      ],
      "metadata": {
        "id": "x-NVdtjuzHYB"
      },
      "execution_count": 66,
      "outputs": []
    },
    {
      "cell_type": "code",
      "source": [
        "x = data.drop('HR_30', axis=1)\n",
        "y = data['HR_30']\n",
        "\n",
        "hist = model.fit(x, y, validation_split=0.2, epochs=50, batch_size=100)"
      ],
      "metadata": {
        "id": "K1sRbc8n2FIW",
        "outputId": "0873e0c9-14b5-425b-fc3f-d4697dbf8d0c",
        "colab": {
          "base_uri": "https://localhost:8080/"
        }
      },
      "execution_count": 67,
      "outputs": [
        {
          "output_type": "stream",
          "name": "stdout",
          "text": [
            "Epoch 1/50\n",
            "57/57 [==============================] - 7s 7ms/step - loss: 20.6718 - mae: 20.6718 - val_loss: 3.6786 - val_mae: 3.6786\n",
            "Epoch 2/50\n",
            "57/57 [==============================] - 0s 4ms/step - loss: 7.1657 - mae: 7.1657 - val_loss: 4.5433 - val_mae: 4.5433\n",
            "Epoch 3/50\n",
            "57/57 [==============================] - 0s 5ms/step - loss: 4.6091 - mae: 4.6091 - val_loss: 1.4662 - val_mae: 1.4662\n",
            "Epoch 4/50\n",
            "57/57 [==============================] - 0s 5ms/step - loss: 6.4559 - mae: 6.4559 - val_loss: 4.3331 - val_mae: 4.3331\n",
            "Epoch 5/50\n",
            "57/57 [==============================] - 0s 5ms/step - loss: 2.6850 - mae: 2.6850 - val_loss: 3.3591 - val_mae: 3.3591\n",
            "Epoch 6/50\n",
            "57/57 [==============================] - 0s 5ms/step - loss: 2.3474 - mae: 2.3474 - val_loss: 0.5714 - val_mae: 0.5714\n",
            "Epoch 7/50\n",
            "57/57 [==============================] - 0s 5ms/step - loss: 1.2901 - mae: 1.2901 - val_loss: 1.6562 - val_mae: 1.6562\n",
            "Epoch 8/50\n",
            "57/57 [==============================] - 0s 5ms/step - loss: 1.7762 - mae: 1.7762 - val_loss: 0.2884 - val_mae: 0.2884\n",
            "Epoch 9/50\n",
            "57/57 [==============================] - 0s 5ms/step - loss: 1.5326 - mae: 1.5326 - val_loss: 2.4687 - val_mae: 2.4687\n",
            "Epoch 10/50\n",
            "57/57 [==============================] - 0s 5ms/step - loss: 1.6098 - mae: 1.6098 - val_loss: 0.7596 - val_mae: 0.7596\n",
            "Epoch 11/50\n",
            "57/57 [==============================] - 0s 4ms/step - loss: 0.6746 - mae: 0.6746 - val_loss: 1.0380 - val_mae: 1.0380\n",
            "Epoch 12/50\n",
            "57/57 [==============================] - 0s 4ms/step - loss: 1.2640 - mae: 1.2640 - val_loss: 0.2613 - val_mae: 0.2613\n",
            "Epoch 13/50\n",
            "57/57 [==============================] - 0s 5ms/step - loss: 0.8049 - mae: 0.8049 - val_loss: 0.2731 - val_mae: 0.2731\n",
            "Epoch 14/50\n",
            "57/57 [==============================] - 0s 4ms/step - loss: 0.6670 - mae: 0.6670 - val_loss: 0.5831 - val_mae: 0.5831\n",
            "Epoch 15/50\n",
            "57/57 [==============================] - 0s 4ms/step - loss: 0.7064 - mae: 0.7064 - val_loss: 0.3852 - val_mae: 0.3852\n",
            "Epoch 16/50\n",
            "57/57 [==============================] - 0s 4ms/step - loss: 0.4533 - mae: 0.4533 - val_loss: 0.2001 - val_mae: 0.2001\n",
            "Epoch 17/50\n",
            "57/57 [==============================] - 0s 5ms/step - loss: 0.3756 - mae: 0.3756 - val_loss: 0.3740 - val_mae: 0.3740\n",
            "Epoch 18/50\n",
            "57/57 [==============================] - 0s 4ms/step - loss: 0.3667 - mae: 0.3667 - val_loss: 0.2490 - val_mae: 0.2490\n",
            "Epoch 19/50\n",
            "57/57 [==============================] - 0s 5ms/step - loss: 0.3784 - mae: 0.3784 - val_loss: 0.4604 - val_mae: 0.4604\n",
            "Epoch 20/50\n",
            "57/57 [==============================] - 0s 7ms/step - loss: 0.4251 - mae: 0.4251 - val_loss: 0.2644 - val_mae: 0.2644\n",
            "Epoch 21/50\n",
            "57/57 [==============================] - 0s 7ms/step - loss: 0.3364 - mae: 0.3364 - val_loss: 0.3541 - val_mae: 0.3541\n",
            "Epoch 22/50\n",
            "57/57 [==============================] - 0s 7ms/step - loss: 0.3336 - mae: 0.3336 - val_loss: 0.6257 - val_mae: 0.6257\n",
            "Epoch 23/50\n",
            "57/57 [==============================] - 0s 7ms/step - loss: 0.6665 - mae: 0.6665 - val_loss: 0.3987 - val_mae: 0.3987\n",
            "Epoch 24/50\n",
            "57/57 [==============================] - 0s 7ms/step - loss: 0.4061 - mae: 0.4061 - val_loss: 0.4081 - val_mae: 0.4081\n",
            "Epoch 25/50\n",
            "57/57 [==============================] - 0s 6ms/step - loss: 0.2886 - mae: 0.2886 - val_loss: 0.1821 - val_mae: 0.1821\n",
            "Epoch 26/50\n",
            "57/57 [==============================] - 0s 7ms/step - loss: 0.3288 - mae: 0.3288 - val_loss: 0.0632 - val_mae: 0.0632\n",
            "Epoch 27/50\n",
            "57/57 [==============================] - 0s 6ms/step - loss: 0.3433 - mae: 0.3433 - val_loss: 0.4288 - val_mae: 0.4288\n",
            "Epoch 28/50\n",
            "57/57 [==============================] - 0s 6ms/step - loss: 0.2484 - mae: 0.2484 - val_loss: 0.2023 - val_mae: 0.2023\n",
            "Epoch 29/50\n",
            "57/57 [==============================] - 0s 6ms/step - loss: 0.3848 - mae: 0.3848 - val_loss: 0.1598 - val_mae: 0.1598\n",
            "Epoch 30/50\n",
            "57/57 [==============================] - 0s 6ms/step - loss: 0.3048 - mae: 0.3048 - val_loss: 0.0568 - val_mae: 0.0568\n",
            "Epoch 31/50\n",
            "57/57 [==============================] - 0s 5ms/step - loss: 0.2000 - mae: 0.2000 - val_loss: 0.0704 - val_mae: 0.0704\n",
            "Epoch 32/50\n",
            "57/57 [==============================] - 0s 5ms/step - loss: 0.3050 - mae: 0.3050 - val_loss: 0.2735 - val_mae: 0.2735\n",
            "Epoch 33/50\n",
            "57/57 [==============================] - 0s 5ms/step - loss: 0.3301 - mae: 0.3301 - val_loss: 0.1086 - val_mae: 0.1086\n",
            "Epoch 34/50\n",
            "57/57 [==============================] - 0s 5ms/step - loss: 0.1756 - mae: 0.1756 - val_loss: 0.1261 - val_mae: 0.1261\n",
            "Epoch 35/50\n",
            "57/57 [==============================] - 0s 5ms/step - loss: 0.1638 - mae: 0.1638 - val_loss: 0.0367 - val_mae: 0.0367\n",
            "Epoch 36/50\n",
            "57/57 [==============================] - 0s 4ms/step - loss: 0.1433 - mae: 0.1433 - val_loss: 0.0311 - val_mae: 0.0311\n",
            "Epoch 37/50\n",
            "57/57 [==============================] - 0s 5ms/step - loss: 0.2150 - mae: 0.2150 - val_loss: 0.0368 - val_mae: 0.0368\n",
            "Epoch 38/50\n",
            "57/57 [==============================] - 0s 5ms/step - loss: 0.2101 - mae: 0.2101 - val_loss: 0.0547 - val_mae: 0.0547\n",
            "Epoch 39/50\n",
            "57/57 [==============================] - 0s 5ms/step - loss: 0.1799 - mae: 0.1799 - val_loss: 0.2720 - val_mae: 0.2720\n",
            "Epoch 40/50\n",
            "57/57 [==============================] - 0s 5ms/step - loss: 0.1999 - mae: 0.1999 - val_loss: 0.0299 - val_mae: 0.0299\n",
            "Epoch 41/50\n",
            "57/57 [==============================] - 0s 5ms/step - loss: 0.1451 - mae: 0.1451 - val_loss: 0.1181 - val_mae: 0.1181\n",
            "Epoch 42/50\n",
            "57/57 [==============================] - 0s 5ms/step - loss: 0.1960 - mae: 0.1960 - val_loss: 0.1243 - val_mae: 0.1243\n",
            "Epoch 43/50\n",
            "57/57 [==============================] - 0s 5ms/step - loss: 0.1911 - mae: 0.1911 - val_loss: 0.0384 - val_mae: 0.0384\n",
            "Epoch 44/50\n",
            "57/57 [==============================] - 0s 4ms/step - loss: 0.2245 - mae: 0.2245 - val_loss: 0.1218 - val_mae: 0.1218\n",
            "Epoch 45/50\n",
            "57/57 [==============================] - 0s 5ms/step - loss: 0.1514 - mae: 0.1514 - val_loss: 0.0465 - val_mae: 0.0465\n",
            "Epoch 46/50\n",
            "57/57 [==============================] - 0s 5ms/step - loss: 0.1300 - mae: 0.1300 - val_loss: 0.1186 - val_mae: 0.1186\n",
            "Epoch 47/50\n",
            "57/57 [==============================] - 0s 5ms/step - loss: 0.1693 - mae: 0.1693 - val_loss: 0.1982 - val_mae: 0.1982\n",
            "Epoch 48/50\n",
            "57/57 [==============================] - 0s 5ms/step - loss: 0.1428 - mae: 0.1428 - val_loss: 0.0395 - val_mae: 0.0395\n",
            "Epoch 49/50\n",
            "57/57 [==============================] - 0s 5ms/step - loss: 0.1186 - mae: 0.1186 - val_loss: 0.0429 - val_mae: 0.0429\n",
            "Epoch 50/50\n",
            "57/57 [==============================] - 0s 5ms/step - loss: 0.1163 - mae: 0.1163 - val_loss: 0.0331 - val_mae: 0.0331\n"
          ]
        }
      ]
    },
    {
      "cell_type": "code",
      "source": [
        "sns.set()\n",
        "\n",
        "err = hist.history['mae']\n",
        "val_err = hist.history['val_mae']\n",
        "epochs = range(1, len(err) + 1)\n",
        "\n",
        "plt.plot(epochs, err, '-', label='Training MAE')\n",
        "plt.plot(epochs, val_err, ':', label='Validation MAE')\n",
        "plt.title('Training and Validation Accuracy')\n",
        "plt.xlabel('Epoch')\n",
        "plt.ylabel('Mean Absolute Error')\n",
        "plt.legend(loc='upper right')\n",
        "plt.plot()"
      ],
      "metadata": {
        "id": "tZ16n0Uv4EDC",
        "outputId": "c5bb55cf-a4d8-45c4-950c-0f13c001389f",
        "colab": {
          "base_uri": "https://localhost:8080/",
          "height": 497
        }
      },
      "execution_count": 69,
      "outputs": [
        {
          "output_type": "execute_result",
          "data": {
            "text/plain": [
              "[]"
            ]
          },
          "metadata": {},
          "execution_count": 69
        },
        {
          "output_type": "display_data",
          "data": {
            "text/plain": [
              "<Figure size 640x480 with 1 Axes>"
            ],
            "image/png": "[encoded data removed]"
          },
          "metadata": {}
        }
      ]
    },
    {
      "cell_type": "code",
      "source": [
        "#convolutional neural networks"
      ],
      "metadata": {
        "id": "PUUWrvz-zKL_"
      },
      "execution_count": null,
      "outputs": []
    },
    {
      "cell_type": "code",
      "source": [
        "#recurrent neural networks"
      ],
      "metadata": {
        "id": "XLfAuUK8zMxH"
      },
      "execution_count": null,
      "outputs": []
    },
    {
      "cell_type": "markdown",
      "source": [
        "#4. Analysis\n",
        "\n",
        "What did you discover? What insights/recommendations do you have? What did you find that was interesting? Which model was your best model, which models didn't work well? Why do you think this is? In general, I want a discussion of your experiment, the results, and what they mean."
      ],
      "metadata": {
        "id": "2Qu9bYPLmiv_"
      }
    },
    {
      "cell_type": "markdown",
      "source": [
        "*your answer here*"
      ],
      "metadata": {
        "id": "k17sKBZUmqIH"
      }
    },
    {
      "cell_type": "markdown",
      "source": [
        "# 5. Bumps in the Road\n",
        "What challenges did you encounter? How did you overcome these challenges?"
      ],
      "metadata": {
        "id": "TemAuKxlm6dQ"
      }
    },
    {
      "cell_type": "markdown",
      "source": [
        "*your answer here*"
      ],
      "metadata": {
        "id": "zXEVEG9FnHgQ"
      }
    }
  ]
}