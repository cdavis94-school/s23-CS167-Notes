{
  "nbformat": 4,
  "nbformat_minor": 0,
  "metadata": {
    "colab": {
      "name": "Project1_starter.ipynb",
      "provenance": [],
      "include_colab_link": true
    },
    "kernelspec": {
      "name": "python3",
      "display_name": "Python 3"
    }
  },
  "cells": [
    {
      "cell_type": "markdown",
      "metadata": {
        "id": "view-in-github",
        "colab_type": "text"
      },
      "source": [
        "<a href=\"https://colab.research.google.com/github/cdavis94-school/s23-CS167-Notes/blob/main/Project1_Davis.ipynb\" target=\"_parent\"><img src=\"https://colab.research.google.com/assets/colab-badge.svg\" alt=\"Open In Colab\"/></a>"
      ]
    },
    {
      "cell_type": "markdown",
      "metadata": {
        "id": "F9AOhxuO9Vt7"
      },
      "source": [
        "# Project \\#1 Starter Code: \n",
        "Your first step is to decide which dataset you would like to work with for this project. \n",
        "\n",
        "For this project, you will get to choose what dataset you use. The ones we've used in class (other than Iris/Titanic as they're pretty small) are all fair game (wine quality, breast cancer, spotify). \n",
        "\n",
        "Here are some other possibilities--Kaggle has many many more. It might be a good idea to double check with me before grabbing a dataset that's not listed here:\n",
        "- 🥑 [Avocado Prices](https://www.kaggle.com/datasets/neuromusic/avocado-prices)\n",
        "- 🎟️ [Admission to University](https://www.kaggle.com/datasets/akshaydattatraykhare/data-for-admission-in-the-university)\n",
        "- 🏎️ [Speed Dating](https://www.kaggle.com/datasets/whenamancodes/speed-dating)\n",
        "- 🎓 [World University Ranking](https://www.kaggle.com/datasets/whenamancodes/world-university-ranking-2022-2023)\n",
        "- 📸 [Top Instagram Influencers](https://www.kaggle.com/datasets/whenamancodes/top-200-influencers-crushing-on-instagram)\n",
        "- 🌦️ [Weather Prediction](https://www.kaggle.com/datasets/thedevastator/weather-prediction)\n",
        "- 🤑 [Student Monthly Expenses](https://www.kaggle.com/datasets/shariful07/nice-work-thanks-for-share)\n",
        "- 🍺 [Student Alcohol Consumption](https://www.kaggle.com/datasets/uciml/student-alcohol-consumption)\n",
        "- 🏫 [College Score Card](https://www.kaggle.com/datasets/thedevastator/u-s-department-of-education-college-scorecard-da)\n",
        "- 🎮 [IMDB Video Games](https://www.kaggle.com/datasets/muhammadadiltalay/imdb-video-games)\n",
        "- 🎵 [Spotify Recommendation](https://www.kaggle.com/datasets/bricevergnou/spotify-recommendation)"
      ]
    },
    {
      "cell_type": "markdown",
      "source": [
        "# Self-Evaluation:\n",
        "\n",
        "| **Description/Writing** | **I think I deserve** |\n",
        "|-------------------------|-----------------------|\n",
        "| 1: Problem              | 2/2                   |\n",
        "| 2: Data Prep            | 1/2                   |\n",
        "| 3: Research             | 8/10                  |\n",
        "| 4: Analysis             | /10                   |\n",
        "| 5: Bumps in the Road.   | 1/1                   |\n",
        "| Total                   | /25                   |"
      ],
      "metadata": {
        "id": "qbd3DvcpK6pD"
      }
    },
    {
      "cell_type": "markdown",
      "source": [
        "# 1. Problem:\n",
        "State the problem you are trying to solve with this machine learning experiment. Include a description of the data, where you got the data, and what you're trying to predict.."
      ],
      "metadata": {
        "id": "WAD00FUzJweA"
      }
    },
    {
      "cell_type": "markdown",
      "source": [
        "Attempting to predict the chances of admittance to a masters program. "
      ],
      "metadata": {
        "id": "G1jpZYKEJ1Ao"
      }
    },
    {
      "cell_type": "markdown",
      "source": [
        "# 2. Data Preparation\n",
        "Explain your data preparation. What did you have to do to get your data in shape for your experiments? Why are you certain that you data is clean and prepared for use in your algorithms?"
      ],
      "metadata": {
        "id": "JwzF076lJ3mA"
      }
    },
    {
      "cell_type": "markdown",
      "source": [
        "*your answer here*"
      ],
      "metadata": {
        "id": "81CTRbswJ_XJ"
      }
    },
    {
      "cell_type": "code",
      "source": [
        "import pandas as pd\n",
        "from google.colab import drive\n",
        "import sklearn\n",
        "from sklearn import tree\n",
        "from sklearn.model_selection import train_test_split\n",
        "from sklearn import metrics\n",
        "from sklearn import neighbors\n",
        "from sklearn.preprocessing import StandardScaler\n",
        "import matplotlib.pyplot as plt\n",
        "from sklearn.ensemble import RandomForestRegressor\n",
        "drive.mount('/content/drive')"
      ],
      "metadata": {
        "id": "vv2-3tJlKBCd",
        "colab": {
          "base_uri": "https://localhost:8080/"
        },
        "outputId": "935e5959-b65b-4c4e-d03f-0642c451dcd5"
      },
      "execution_count": 1,
      "outputs": [
        {
          "output_type": "stream",
          "name": "stdout",
          "text": [
            "Mounted at /content/drive\n"
          ]
        }
      ]
    },
    {
      "cell_type": "code",
      "source": [
        "raw_data = pd.read_csv('/content/drive/MyDrive/datasets/proj1_data.csv')\n",
        "print(raw_data.any().isna())\n",
        "print(\"----------------------------\")\n",
        "raw_data.head()"
      ],
      "metadata": {
        "colab": {
          "base_uri": "https://localhost:8080/",
          "height": 397
        },
        "id": "KHLnpGllz6nh",
        "outputId": "b2f64148-f998-4f6d-f144-3d5b88158434"
      },
      "execution_count": 2,
      "outputs": [
        {
          "output_type": "stream",
          "name": "stdout",
          "text": [
            "Serial No.           False\n",
            "GRE Score            False\n",
            "TOEFL Score          False\n",
            "University Rating    False\n",
            "SOP                  False\n",
            "LOR                  False\n",
            "CGPA                 False\n",
            "Research             False\n",
            "Chance of Admit      False\n",
            "dtype: bool\n",
            "----------------------------\n"
          ]
        },
        {
          "output_type": "execute_result",
          "data": {
            "text/plain": [
              "   Serial No.  GRE Score  TOEFL Score  University Rating  SOP  LOR   CGPA  \\\n",
              "0           1        337          118                  4  4.5   4.5  9.65   \n",
              "1           2        324          107                  4  4.0   4.5  8.87   \n",
              "2           3        316          104                  3  3.0   3.5  8.00   \n",
              "3           4        322          110                  3  3.5   2.5  8.67   \n",
              "4           5        314          103                  2  2.0   3.0  8.21   \n",
              "\n",
              "   Research  Chance of Admit   \n",
              "0         1              0.92  \n",
              "1         1              0.76  \n",
              "2         1              0.72  \n",
              "3         1              0.80  \n",
              "4         0              0.65  "
            ],
            "text/html": [
              "\n",
              "  <div id=\"df-8c00cce5-de0f-47a7-b8ab-5c8fa1966592\">\n",
              "    <div class=\"colab-df-container\">\n",
              "      <div>\n",
              "<style scoped>\n",
              "    .dataframe tbody tr th:only-of-type {\n",
              "        vertical-align: middle;\n",
              "    }\n",
              "\n",
              "    .dataframe tbody tr th {\n",
              "        vertical-align: top;\n",
              "    }\n",
              "\n",
              "    .dataframe thead th {\n",
              "        text-align: right;\n",
              "    }\n",
              "</style>\n",
              "<table border=\"1\" class=\"dataframe\">\n",
              "  <thead>\n",
              "    <tr style=\"text-align: right;\">\n",
              "      <th></th>\n",
              "      <th>Serial No.</th>\n",
              "      <th>GRE Score</th>\n",
              "      <th>TOEFL Score</th>\n",
              "      <th>University Rating</th>\n",
              "      <th>SOP</th>\n",
              "      <th>LOR</th>\n",
              "      <th>CGPA</th>\n",
              "      <th>Research</th>\n",
              "      <th>Chance of Admit</th>\n",
              "    </tr>\n",
              "  </thead>\n",
              "  <tbody>\n",
              "    <tr>\n",
              "      <th>0</th>\n",
              "      <td>1</td>\n",
              "      <td>337</td>\n",
              "      <td>118</td>\n",
              "      <td>4</td>\n",
              "      <td>4.5</td>\n",
              "      <td>4.5</td>\n",
              "      <td>9.65</td>\n",
              "      <td>1</td>\n",
              "      <td>0.92</td>\n",
              "    </tr>\n",
              "    <tr>\n",
              "      <th>1</th>\n",
              "      <td>2</td>\n",
              "      <td>324</td>\n",
              "      <td>107</td>\n",
              "      <td>4</td>\n",
              "      <td>4.0</td>\n",
              "      <td>4.5</td>\n",
              "      <td>8.87</td>\n",
              "      <td>1</td>\n",
              "      <td>0.76</td>\n",
              "    </tr>\n",
              "    <tr>\n",
              "      <th>2</th>\n",
              "      <td>3</td>\n",
              "      <td>316</td>\n",
              "      <td>104</td>\n",
              "      <td>3</td>\n",
              "      <td>3.0</td>\n",
              "      <td>3.5</td>\n",
              "      <td>8.00</td>\n",
              "      <td>1</td>\n",
              "      <td>0.72</td>\n",
              "    </tr>\n",
              "    <tr>\n",
              "      <th>3</th>\n",
              "      <td>4</td>\n",
              "      <td>322</td>\n",
              "      <td>110</td>\n",
              "      <td>3</td>\n",
              "      <td>3.5</td>\n",
              "      <td>2.5</td>\n",
              "      <td>8.67</td>\n",
              "      <td>1</td>\n",
              "      <td>0.80</td>\n",
              "    </tr>\n",
              "    <tr>\n",
              "      <th>4</th>\n",
              "      <td>5</td>\n",
              "      <td>314</td>\n",
              "      <td>103</td>\n",
              "      <td>2</td>\n",
              "      <td>2.0</td>\n",
              "      <td>3.0</td>\n",
              "      <td>8.21</td>\n",
              "      <td>0</td>\n",
              "      <td>0.65</td>\n",
              "    </tr>\n",
              "  </tbody>\n",
              "</table>\n",
              "</div>\n",
              "      <button class=\"colab-df-convert\" onclick=\"convertToInteractive('df-8c00cce5-de0f-47a7-b8ab-5c8fa1966592')\"\n",
              "              title=\"Convert this dataframe to an interactive table.\"\n",
              "              style=\"display:none;\">\n",
              "        \n",
              "  <svg xmlns=\"http://www.w3.org/2000/svg\" height=\"24px\"viewBox=\"0 0 24 24\"\n",
              "       width=\"24px\">\n",
              "    <path d=\"M0 0h24v24H0V0z\" fill=\"none\"/>\n",
              "    <path d=\"M18.56 5.44l.94 2.06.94-2.06 2.06-.94-2.06-.94-.94-2.06-.94 2.06-2.06.94zm-11 1L8.5 8.5l.94-2.06 2.06-.94-2.06-.94L8.5 2.5l-.94 2.06-2.06.94zm10 10l.94 2.06.94-2.06 2.06-.94-2.06-.94-.94-2.06-.94 2.06-2.06.94z\"/><path d=\"M17.41 7.96l-1.37-1.37c-.4-.4-.92-.59-1.43-.59-.52 0-1.04.2-1.43.59L10.3 9.45l-7.72 7.72c-.78.78-.78 2.05 0 2.83L4 21.41c.39.39.9.59 1.41.59.51 0 1.02-.2 1.41-.59l7.78-7.78 2.81-2.81c.8-.78.8-2.07 0-2.86zM5.41 20L4 18.59l7.72-7.72 1.47 1.35L5.41 20z\"/>\n",
              "  </svg>\n",
              "      </button>\n",
              "      \n",
              "  <style>\n",
              "    .colab-df-container {\n",
              "      display:flex;\n",
              "      flex-wrap:wrap;\n",
              "      gap: 12px;\n",
              "    }\n",
              "\n",
              "    .colab-df-convert {\n",
              "      background-color: #E8F0FE;\n",
              "      border: none;\n",
              "      border-radius: 50%;\n",
              "      cursor: pointer;\n",
              "      display: none;\n",
              "      fill: #1967D2;\n",
              "      height: 32px;\n",
              "      padding: 0 0 0 0;\n",
              "      width: 32px;\n",
              "    }\n",
              "\n",
              "    .colab-df-convert:hover {\n",
              "      background-color: #E2EBFA;\n",
              "      box-shadow: 0px 1px 2px rgba(60, 64, 67, 0.3), 0px 1px 3px 1px rgba(60, 64, 67, 0.15);\n",
              "      fill: #174EA6;\n",
              "    }\n",
              "\n",
              "    [theme=dark] .colab-df-convert {\n",
              "      background-color: #3B4455;\n",
              "      fill: #D2E3FC;\n",
              "    }\n",
              "\n",
              "    [theme=dark] .colab-df-convert:hover {\n",
              "      background-color: #434B5C;\n",
              "      box-shadow: 0px 1px 3px 1px rgba(0, 0, 0, 0.15);\n",
              "      filter: drop-shadow(0px 1px 2px rgba(0, 0, 0, 0.3));\n",
              "      fill: #FFFFFF;\n",
              "    }\n",
              "  </style>\n",
              "\n",
              "      <script>\n",
              "        const buttonEl =\n",
              "          document.querySelector('#df-8c00cce5-de0f-47a7-b8ab-5c8fa1966592 button.colab-df-convert');\n",
              "        buttonEl.style.display =\n",
              "          google.colab.kernel.accessAllowed ? 'block' : 'none';\n",
              "\n",
              "        async function convertToInteractive(key) {\n",
              "          const element = document.querySelector('#df-8c00cce5-de0f-47a7-b8ab-5c8fa1966592');\n",
              "          const dataTable =\n",
              "            await google.colab.kernel.invokeFunction('convertToInteractive',\n",
              "                                                     [key], {});\n",
              "          if (!dataTable) return;\n",
              "\n",
              "          const docLinkHtml = 'Like what you see? Visit the ' +\n",
              "            '<a target=\"_blank\" href=https://colab.research.google.com/notebooks/data_table.ipynb>data table notebook</a>'\n",
              "            + ' to learn more about interactive tables.';\n",
              "          element.innerHTML = '';\n",
              "          dataTable['output_type'] = 'display_data';\n",
              "          await google.colab.output.renderOutput(dataTable, element);\n",
              "          const docLink = document.createElement('div');\n",
              "          docLink.innerHTML = docLinkHtml;\n",
              "          element.appendChild(docLink);\n",
              "        }\n",
              "      </script>\n",
              "    </div>\n",
              "  </div>\n",
              "  "
            ]
          },
          "metadata": {},
          "execution_count": 2
        }
      ]
    },
    {
      "cell_type": "code",
      "source": [
        "target = 'Chance of Admit '\n",
        "predictors = ['GRE Score', 'TOEFL Score', 'University Rating', 'SOP', 'LOR ', 'CGPA', 'Research']\n",
        "train_data, test_data, train_sln, test_sln = train_test_split(raw_data[predictors], raw_data[target], test_size = 0.2, random_state=41)\n",
        "scaler = StandardScaler()\n",
        "\n",
        "scaler.fit(train_data)\n",
        "train_data_normalized = scaler.transform(train_data)\n",
        "test_data_normalized = scaler.transform(test_data)"
      ],
      "metadata": {
        "id": "n7Zg1Z5u1me9"
      },
      "execution_count": 3,
      "outputs": []
    },
    {
      "cell_type": "markdown",
      "metadata": {
        "id": "7SfueFgsNdNt"
      },
      "source": [
        "# 3. Research\n",
        "\n",
        "Put your code and your experiments here.\n",
        "\n",
        "For full credit, your experiments should include the following models:\n",
        "- __k Nearest Neighbors__\n",
        "- __weighted k Nearest Neighbors__\n",
        "- __decision tree__\n",
        "- __random forest__ \n",
        "\n",
        "You need to demonstrate the performance of these models on both __normalized__ and __non-normalized__ data. \n",
        "\n",
        "For each of the above models, you need to include a __graph of at least 1 tuned parameter__. \n"
      ]
    },
    {
      "cell_type": "code",
      "source": [
        "#KNN non-nomalized\n",
        "k_vals = [1,3,5,10,15,20,25,35,50,75,100,150,200,250,300]\n",
        "kNN_accuracies = []\n",
        "\n",
        "for k in k_vals:\n",
        "    knn = neighbors.KNeighborsRegressor(n_neighbors = k)\n",
        "    knn.fit(train_data, train_sln)\n",
        "    preds = knn.predict(test_data)\n",
        "    current_accuracy = metrics.r2_score(test_sln, preds)\n",
        "    kNN_accuracies.append(current_accuracy)\n",
        "\n",
        "plt.suptitle('College Data k-NN Experiment',fontsize=18)\n",
        "plt.xlabel('k')\n",
        "plt.ylabel('R2')\n",
        "plt.plot(k_vals,kNN_accuracies,'ro-',label='R2')\n",
        "plt.legend(loc='lower left', shadow=True)\n",
        "plt.axis([0, 320,0,1])\n",
        "\n",
        "plt.show()\n",
        "\n",
        "knn = neighbors.KNeighborsRegressor(n_neighbors = 12)\n",
        "knn.fit(train_data, train_sln)\n",
        "preds = knn.predict(test_data)\n",
        "knn_r2 = metrics.r2_score(test_sln, preds)\n",
        "knn_r2\n"
      ],
      "metadata": {
        "id": "Z7Wxh3O0KHvo",
        "colab": {
          "base_uri": "https://localhost:8080/",
          "height": 325
        },
        "outputId": "9decd1c6-cc42-40df-f14d-ed9c614e62d5"
      },
      "execution_count": 4,
      "outputs": [
        {
          "output_type": "display_data",
          "data": {
            "text/plain": [
              "<Figure size 432x288 with 1 Axes>"
            ],
            "image/png": "[encoded data removed]"
          },
          "metadata": {
            "needs_background": "light"
          }
        },
        {
          "output_type": "execute_result",
          "data": {
            "text/plain": [
              "0.7797533118970087"
            ]
          },
          "metadata": {},
          "execution_count": 4
        }
      ]
    },
    {
      "cell_type": "code",
      "source": [
        "#knn normalized\n",
        "kNN_accuracies = []\n",
        "\n",
        "for k in k_vals:\n",
        "    knn = neighbors.KNeighborsRegressor(n_neighbors = k)\n",
        "    knn.fit(train_data_normalized, train_sln)\n",
        "    preds = knn.predict(test_data_normalized)\n",
        "    current_accuracy = metrics.r2_score(test_sln, preds)\n",
        "    kNN_accuracies.append(current_accuracy)\n",
        "\n",
        "plt.suptitle('College Data k-NN Experiment',fontsize=18)\n",
        "plt.xlabel('k')\n",
        "plt.ylabel('R2')\n",
        "plt.plot(k_vals,kNN_accuracies,'ro-',label='R2')\n",
        "plt.legend(loc='lower left', shadow=True)\n",
        "plt.axis([0, 320,0,1])\n",
        "\n",
        "plt.show()\n",
        "\n",
        "knn = neighbors.KNeighborsRegressor(n_neighbors = 12)\n",
        "knn.fit(train_data_normalized, train_sln)\n",
        "preds = knn.predict(test_data_normalized)\n",
        "knn_r2 = metrics.r2_score(test_sln, preds)\n",
        "knn_r2\n"
      ],
      "metadata": {
        "colab": {
          "base_uri": "https://localhost:8080/",
          "height": 325
        },
        "id": "VwzgCXMw-Fej",
        "outputId": "a38e715f-f4d9-40e4-8927-0863b12fbb97"
      },
      "execution_count": 5,
      "outputs": [
        {
          "output_type": "display_data",
          "data": {
            "text/plain": [
              "<Figure size 432x288 with 1 Axes>"
            ],
            "image/png": "[encoded data removed]"
          },
          "metadata": {
            "needs_background": "light"
          }
        },
        {
          "output_type": "execute_result",
          "data": {
            "text/plain": [
              "0.7508509978567461"
            ]
          },
          "metadata": {},
          "execution_count": 5
        }
      ]
    },
    {
      "cell_type": "code",
      "source": [
        "kNN_accuracies = []\n",
        "\n",
        "for k in k_vals:\n",
        "    wknn = neighbors.KNeighborsRegressor(n_neighbors = k, weights = 'distance')\n",
        "    wknn.fit(train_data, train_sln)\n",
        "    preds = wknn.predict(test_data)\n",
        "    current_accuracy = metrics.r2_score(test_sln, preds)\n",
        "    kNN_accuracies.append(current_accuracy)\n",
        "\n",
        "plt.suptitle('College Data k-NN Experiment',fontsize=18)\n",
        "plt.xlabel('k')\n",
        "plt.ylabel('R2')\n",
        "plt.plot(k_vals,kNN_accuracies,'ro-',label='R2')\n",
        "plt.legend(loc='lower left', shadow=True)\n",
        "plt.axis([0, 320,0,1])\n",
        "\n",
        "plt.show()\n",
        "\n",
        "wknn = neighbors.KNeighborsRegressor(n_neighbors = 12, weights = 'distance')\n",
        "wknn.fit(train_data, train_sln)\n",
        "preds = wknn.predict(test_data)\n",
        "knn_r2 = metrics.r2_score(test_sln, preds)\n",
        "knn_r2"
      ],
      "metadata": {
        "id": "REs9xJr1_Wfu",
        "outputId": "03994779-75bd-4125-8fe0-f4fa51869c75",
        "colab": {
          "base_uri": "https://localhost:8080/",
          "height": 325
        }
      },
      "execution_count": 6,
      "outputs": [
        {
          "output_type": "display_data",
          "data": {
            "text/plain": [
              "<Figure size 432x288 with 1 Axes>"
            ],
            "image/png": "[encoded data removed]"
          },
          "metadata": {
            "needs_background": "light"
          }
        },
        {
          "output_type": "execute_result",
          "data": {
            "text/plain": [
              "0.7873689111015518"
            ]
          },
          "metadata": {},
          "execution_count": 6
        }
      ]
    },
    {
      "cell_type": "code",
      "source": [
        "kNN_accuracies = []\n",
        "\n",
        "for k in k_vals:\n",
        "    wknn = neighbors.KNeighborsRegressor(n_neighbors = k, weights = 'distance')\n",
        "    wknn.fit(train_data_normalized, train_sln)\n",
        "    preds = wknn.predict(test_data_normalized)\n",
        "    current_accuracy = metrics.r2_score(test_sln, preds)\n",
        "    kNN_accuracies.append(current_accuracy)\n",
        "\n",
        "plt.suptitle('College Data k-NN Experiment',fontsize=18)\n",
        "plt.xlabel('k')\n",
        "plt.ylabel('R2')\n",
        "plt.plot(k_vals,kNN_accuracies,'ro-',label='R2')\n",
        "plt.legend(loc='lower left', shadow=True)\n",
        "plt.axis([0, 320,0,1])\n",
        "\n",
        "plt.show()\n",
        "\n",
        "wknn = neighbors.KNeighborsRegressor(n_neighbors = 12, weights = 'distance')\n",
        "wknn.fit(train_data_normalized, train_sln)\n",
        "preds = wknn.predict(test_data_normalized)\n",
        "knn_r2 = metrics.r2_score(test_sln, preds)\n",
        "knn_r2"
      ],
      "metadata": {
        "id": "_KIeub0GAcKB",
        "outputId": "9085a148-ebca-4be2-b496-ca2c92529a57",
        "colab": {
          "base_uri": "https://localhost:8080/",
          "height": 325
        }
      },
      "execution_count": 7,
      "outputs": [
        {
          "output_type": "display_data",
          "data": {
            "text/plain": [
              "<Figure size 432x288 with 1 Axes>"
            ],
            "image/png": "[encoded data removed]"
          },
          "metadata": {
            "needs_background": "light"
          }
        },
        {
          "output_type": "execute_result",
          "data": {
            "text/plain": [
              "0.7638844317077148"
            ]
          },
          "metadata": {},
          "execution_count": 7
        }
      ]
    },
    {
      "cell_type": "code",
      "source": [
        "tree_depth = [1,2,3,4,5,6,7,8,9,10]\n",
        "tree_accuracies = []\n",
        "\n",
        "for k in tree_depth:\n",
        "    dt = tree.DecisionTreeRegressor(max_depth = k)\n",
        "    dt.fit(train_data, train_sln)\n",
        "    preds = dt.predict(test_data)\n",
        "    current_accuracy = metrics.r2_score(test_sln, preds)\n",
        "    tree_accuracies.append(current_accuracy)\n",
        "\n",
        "plt.suptitle('College Data Tree Experiment',fontsize=18)\n",
        "plt.xlabel('Depth')\n",
        "plt.ylabel('R2')\n",
        "plt.plot(tree_depth,tree_accuracies,'ro-',label='R2')\n",
        "plt.legend(loc='lower left', shadow=True)\n",
        "plt.axis([0, 10,0,1])\n",
        "\n",
        "plt.show()\n",
        "\n",
        "dt = tree.DecisionTreeRegressor(max_depth = 6)\n",
        "dt.fit(train_data, train_sln)\n",
        "preds = dt.predict(test_data)\n",
        "tree_r2 = metrics.r2_score(test_sln, preds)\n",
        "tree_r2"
      ],
      "metadata": {
        "id": "VX7LOtxWAwTG",
        "outputId": "ec1261a8-81e3-4101-cbc8-76a11d78dc99",
        "colab": {
          "base_uri": "https://localhost:8080/",
          "height": 325
        }
      },
      "execution_count": 9,
      "outputs": [
        {
          "output_type": "display_data",
          "data": {
            "text/plain": [
              "<Figure size 432x288 with 1 Axes>"
            ],
            "image/png": "[encoded data removed]"
          },
          "metadata": {
            "needs_background": "light"
          }
        },
        {
          "output_type": "execute_result",
          "data": {
            "text/plain": [
              "0.663149461244216"
            ]
          },
          "metadata": {},
          "execution_count": 9
        }
      ]
    },
    {
      "cell_type": "code",
      "source": [
        "tree_accuracies = []\n",
        "holder = 0\n",
        "best_knn = 0\n",
        "\n",
        "\n",
        "\n",
        "for k in tree_depth:\n",
        "    dt = tree.DecisionTreeRegressor(max_depth = k)\n",
        "    dt.fit(train_data_normalized, train_sln)\n",
        "    preds = dt.predict(test_data_normalized)\n",
        "    current_accuracy = metrics.r2_score(test_sln, preds)\n",
        "    tree_accuracies.append(current_accuracy)\n",
        "\n",
        "\n",
        "plt.suptitle('College Data Tree Experiment',fontsize=18)\n",
        "plt.xlabel('Depth')\n",
        "plt.ylabel('R2')\n",
        "plt.plot(tree_depth,tree_accuracies,'ro-',label='R2')\n",
        "plt.legend(loc='lower left', shadow=True)\n",
        "plt.axis([0, 10,0,1])\n",
        "\n",
        "plt.show()\n",
        "\n",
        "dt = tree.DecisionTreeRegressor(max_depth = 6)\n",
        "dt.fit(train_data_normalized, train_sln)\n",
        "preds = dt.predict(test_data_normalized)\n",
        "tree_r2 = metrics.r2_score(test_sln, preds)\n",
        "tree_r2"
      ],
      "metadata": {
        "id": "fZpUL8QwBrHO",
        "outputId": "7f4e265e-5168-4d83-bbbe-dd586fd8cf3a",
        "colab": {
          "base_uri": "https://localhost:8080/",
          "height": 325
        }
      },
      "execution_count": 10,
      "outputs": [
        {
          "output_type": "display_data",
          "data": {
            "text/plain": [
              "<Figure size 432x288 with 1 Axes>"
            ],
            "image/png": "[encoded data removed]"
          },
          "metadata": {
            "needs_background": "light"
          }
        },
        {
          "output_type": "execute_result",
          "data": {
            "text/plain": [
              "0.6718724022382905"
            ]
          },
          "metadata": {},
          "execution_count": 10
        }
      ]
    },
    {
      "cell_type": "code",
      "source": [
        "estimators = [1,5,10,20,50,100,200]\n",
        "tree_accuracies = []\n",
        "holder = 0\n",
        "best_knn = 0\n",
        "\n",
        "\n",
        "\n",
        "for k in estimators:\n",
        "    df = RandomForestRegressor(n_estimators = k)\n",
        "    df.fit(train_data, train_sln)\n",
        "    preds = df.predict(test_data)\n",
        "    current_accuracy = metrics.r2_score(test_sln, preds)\n",
        "    tree_accuracies.append(current_accuracy)\n",
        "\n",
        "plt.suptitle('College Data Forest Experiment',fontsize=18)\n",
        "plt.xlabel('N_Estimators')\n",
        "plt.ylabel('R2')\n",
        "plt.plot(estimators,tree_accuracies,'ro-',label='R2')\n",
        "plt.legend(loc='lower left', shadow=True)\n",
        "plt.axis([0, 200,0,1])\n",
        "\n",
        "plt.show()\n",
        "\n",
        "df = RandomForestRegressor(n_estimators = 100)\n",
        "df.fit(train_data, train_sln)\n",
        "preds = df.predict(test_data)\n",
        "metrics.mean_squared_error(test_sln, preds)\n",
        "tree_r2 = metrics.r2_score(test_sln, preds)\n",
        "tree_r2"
      ],
      "metadata": {
        "id": "W_5qn6raCCBJ",
        "outputId": "2fd719b8-460e-4d56-9d78-2e6183c91184",
        "colab": {
          "base_uri": "https://localhost:8080/",
          "height": 326
        }
      },
      "execution_count": 14,
      "outputs": [
        {
          "output_type": "display_data",
          "data": {
            "text/plain": [
              "<Figure size 432x288 with 1 Axes>"
            ],
            "image/png": "[encoded data removed]"
          },
          "metadata": {
            "needs_background": "light"
          }
        },
        {
          "output_type": "execute_result",
          "data": {
            "text/plain": [
              "0.7030589650366807"
            ]
          },
          "metadata": {},
          "execution_count": 14
        }
      ]
    },
    {
      "cell_type": "code",
      "source": [
        "tree_accuracies = []\n",
        "holder = 0\n",
        "best_knn = 0\n",
        "\n",
        "for k in estimators:\n",
        "    df = RandomForestRegressor(n_estimators = k)\n",
        "    df.fit(train_data_normalized, train_sln)\n",
        "    preds = df.predict(test_data_normalized)\n",
        "    current_accuracy = metrics.r2_score(test_sln, preds)\n",
        "    tree_accuracies.append(current_accuracy)\n",
        "\n",
        "plt.suptitle('College Data Forest Experiment',fontsize=18)\n",
        "plt.xlabel('N_Estimators')\n",
        "plt.ylabel('R2')\n",
        "plt.plot(estimators,tree_accuracies,'ro-',label='R2')\n",
        "plt.legend(loc='lower left', shadow=True)\n",
        "plt.axis([0, 200,0,1])\n",
        "\n",
        "plt.show()\n",
        "\n",
        "df = RandomForestRegressor(n_estimators = 100)\n",
        "df.fit(train_data_normalized, train_sln)\n",
        "preds = df.predict(test_data_normalized)\n",
        "metrics.mean_squared_error(test_sln, preds)\n",
        "tree_r2 = metrics.r2_score(test_sln, preds)\n",
        "tree_r2"
      ],
      "metadata": {
        "id": "yusQWhzTDwpA",
        "outputId": "2252fb54-2647-4bfc-ccd5-678c6aa37213",
        "colab": {
          "base_uri": "https://localhost:8080/",
          "height": 326
        }
      },
      "execution_count": 15,
      "outputs": [
        {
          "output_type": "display_data",
          "data": {
            "text/plain": [
              "<Figure size 432x288 with 1 Axes>"
            ],
            "image/png": "[encoded data removed]"
          },
          "metadata": {
            "needs_background": "light"
          }
        },
        {
          "output_type": "execute_result",
          "data": {
            "text/plain": [
              "0.7192436324234444"
            ]
          },
          "metadata": {},
          "execution_count": 15
        }
      ]
    },
    {
      "cell_type": "markdown",
      "source": [
        "#4. Analysis\n",
        "\n",
        "What did you discover? What insights/recommendations do you have? What did you find that was interesting? Which model was your best model, which models didn't work well? Why do you think this is? In general, I want a discussion of your experiment, the results, and what they mean.\n",
        "\n",
        "This chart might help organize your results:\n",
        "\n",
        "| **Model**     | **Non-Normalized** | **Normalized** | **Parameter Tuned** |\n",
        "|---------------|--------------------|----------------|---------------------|\n",
        "| kNN           |        .78         |      .75       |        # of K       |\n",
        "| w-kNN         |        .78         |      .76       |        # of K       |\n",
        "| decision tree |        .66         |      .67       |        Depth        |\n",
        "| random forest |        .70         |      .71       |        N_Estimators |"
      ],
      "metadata": {
        "id": "3n4WI2CiTbSC"
      }
    },
    {
      "cell_type": "markdown",
      "source": [
        "With this dataset K-nearest neighbors is the clear best performing. I decided to use R2 as my method of accuracy measurement because it's on a 0-1 scale no matter the outcome so it's easy to compare amongst different methods. The interesting part to me however was that there is no measurable difference between kNN and weighted kNN. I believe there is such a small difference between non normalized and normalized data because the input variables are so close to each other in size already that normalizing didn't alter their proportions too much. What is interesting to me is in both kNN models the normalized data did worse consistantly no matter the alterations I made to the model. This tells me that a variable with higher inputs has a higher weight to the decision so the non normalization helps the outcome accuracy. I am pleased with the overall outcome of the model and would feel comfortable using it for real world predictions. The application for me would be to test different exam scores on goal graduate schools to see where you want to be to get accepted."
      ],
      "metadata": {
        "id": "6-hRqIl9KL9L"
      }
    },
    {
      "cell_type": "markdown",
      "source": [
        "# 5. Bumps in the Road\n",
        "What challenges did you encounter? How did you overcome these challenges?"
      ],
      "metadata": {
        "id": "sQYL8y5UKO9G"
      }
    },
    {
      "cell_type": "markdown",
      "source": [
        "The first challenge I ran into is the data, it isn't too complex and didn't need any cleaning for the program so I wasn't able to demonstrate those abilities. A issue I ran into that I could not fix is a couple column names having a space in the name, in trying to rename the column using df.rename() an error occured that I could not fix. The key theme in my issues for the rest of the project was the outcome not being what I expected. I expected that the normalized data would outperform the non-nomalized data every time, in tweaking the model atributes I could not get the nomalized data to outperform. "
      ],
      "metadata": {
        "id": "4XPFALubKQPZ"
      }
    }
  ]
}